{
 "cells": [
  {
   "cell_type": "code",
   "execution_count": 1,
   "id": "3938a54a",
   "metadata": {},
   "outputs": [],
   "source": [
    "import pandas as pd\n",
    "import numpy as np\n",
    "import matplotlib as mpl\n",
    "import matplotlib.pyplot as plt\n",
    "import seaborn as sns\n",
    "import os\n",
    "from collections import Counter\n",
    "%matplotlib inline\n",
    "\n",
    "import sklearn\n",
    "from sklearn import linear_model, metrics, preprocessing\n",
    "from sklearn.preprocessing import StandardScaler, MinMaxScaler\n",
    "from sklearn.linear_model import LinearRegression\n",
    "from sklearn.metrics import r2_score, f1_score\n",
    "from sklearn.preprocessing import LabelEncoder\n",
    "from sklearn.model_selection import train_test_split\n",
    "\n",
    "pd.options.mode.chained_assignment = None"
   ]
  },
  {
   "cell_type": "code",
   "execution_count": 2,
   "id": "5032a111",
   "metadata": {},
   "outputs": [],
   "source": [
    "\n",
    "df_florentin=pd.read_csv(\"df_florentinEDA.cvs\")\n",
    "df_hagush_hagadol=pd.read_csv(\"df_hagush_hagadol1EDA.cvs\")\n",
    "df_kiryat_shalom=pd.read_csv(\"df_kiryat_shalomEDA.cvs\")\n",
    "df_neve_shaanan=pd.read_csv(\"df_neve_shaananEDA.cvs\")\n",
    "df_north_star=pd.read_csv(\"df_north_starEDA.cvs\")\n",
    "\n",
    "\n"
   ]
  },
  {
   "cell_type": "markdown",
   "id": "561b77a0",
   "metadata": {},
   "source": [
    "# נווה עופר"
   ]
  },
  {
   "cell_type": "code",
   "execution_count": 3,
   "id": "8d73af55",
   "metadata": {},
   "outputs": [],
   "source": [
    "\n",
    "df_neve_ofer=pd.read_csv(\"df_neve_oferEDA.cvs\")\n",
    "dfN=df_neve_ofer.copy()\n",
    "dfN = dfN.rename(columns={\"price for meter\":\"price_for_meter\",\"number of rooms\":\"number_of_rooms\",\"year of build\":\"year_of_build\",\"total price\":\"total_price\"})\n",
    "\n",
    "dfN = dfN.drop(['Unnamed: 0'],axis = 1)\n",
    "\n",
    "#sorted(dict(zip(dfN.columns,linreg.coef_)).items(),key=lambda x:x[1],reverse = True)\n"
   ]
  },
  {
   "cell_type": "code",
   "execution_count": 5,
   "id": "aad4f505",
   "metadata": {},
   "outputs": [
    {
     "data": {
      "text/plain": [
       "0.7626849677510982"
      ]
     },
     "execution_count": 5,
     "metadata": {},
     "output_type": "execute_result"
    }
   ],
   "source": [
    "\n",
    "X = dfN.drop(columns = ['total_price','Day','Month','adress','price_for_meter'])\n",
    "y = dfN['total_price']\n",
    "\n",
    "\n",
    "linreg = LinearRegression()\n",
    "X_train, X_test, y_train, y_test = train_test_split(X, y, test_size = 0.2)\n",
    "\n",
    "linreg.fit(X_train,y_train)\n",
    "y_pred = linreg.predict(X_test)\n",
    "evaluate_value = r2_score(y_test,y_pred)\n",
    "evaluate_value"
   ]
  },
  {
   "cell_type": "code",
   "execution_count": 6,
   "id": "965d795e",
   "metadata": {},
   "outputs": [
    {
     "name": "stdout",
     "output_type": "stream",
     "text": [
      "Enter square meters:\n",
      "120\n",
      "Enter number of rooms:\n",
      "5\n",
      "Enter floor:\n",
      "8\n",
      "Enter year build:\n",
      "2018\n",
      "Enter year :\n",
      "2021\n",
      "[2658102.76215583]\n"
     ]
    }
   ],
   "source": [
    "print('Enter square meters:')\n",
    "square = input()\n",
    "print('Enter number of rooms:')\n",
    "number_of_rooms = input()\n",
    "print('Enter floor:')\n",
    "floor = input()\n",
    "print('Enter year build:')\n",
    "year_of_build = input()\n",
    "print('Enter year :')\n",
    "Year = input()\n",
    "df = pd.DataFrame({\"square\":square,\"number_of_rooms\":number_of_rooms,\"floor\":floor,\"year_of_build\":year_of_build,\"Year\":Year},index=[0])\n",
    "y_pred = linreg.predict(df)\n",
    "print(y_pred)"
   ]
  },
  {
   "cell_type": "markdown",
   "id": "f30f7742",
   "metadata": {},
   "source": [
    "# נווה שאנן"
   ]
  },
  {
   "cell_type": "code",
   "execution_count": 12,
   "id": "712c6871",
   "metadata": {},
   "outputs": [],
   "source": [
    "dfNS=df_neve_shaanan.copy()\n",
    "dfNS = dfNS.rename(columns={\"price for meter\":\"price_for_meter\",\"number of rooms\":\"number_of_rooms\",\"year of build\":\"year_of_build\",\"total price\":\"total_price\"})\n",
    "\n",
    "dfNS = dfNS.drop(['Unnamed: 0'],axis = 1)"
   ]
  },
  {
   "cell_type": "code",
   "execution_count": 13,
   "id": "f10babe5",
   "metadata": {},
   "outputs": [
    {
     "data": {
      "text/plain": [
       "0.6436619962932377"
      ]
     },
     "execution_count": 13,
     "metadata": {},
     "output_type": "execute_result"
    }
   ],
   "source": [
    "X = dfNS.drop(columns = ['total_price','Day','Month','adress','price_for_meter'])\n",
    "y = dfNS['total_price']\n",
    "\n",
    "\n",
    "linreg = LinearRegression()\n",
    "X_train, X_test, y_train, y_test = train_test_split(X, y, test_size = 0.2)\n",
    "\n",
    "linreg.fit(X_train,y_train)\n",
    "y_pred = linreg.predict(X_test)\n",
    "evaluate_value = r2_score(y_test,y_pred)\n",
    "evaluate_value"
   ]
  },
  {
   "cell_type": "code",
   "execution_count": 15,
   "id": "c9cb4c87",
   "metadata": {},
   "outputs": [
    {
     "name": "stdout",
     "output_type": "stream",
     "text": [
      "Enter square meters:\n",
      "120\n",
      "Enter number of rooms:\n",
      "5\n",
      "Enter floor:\n",
      "8\n",
      "Enter year build:\n",
      "2018\n",
      "Enter year :\n",
      "2021\n",
      "[3938093.91935766]\n"
     ]
    }
   ],
   "source": [
    "print('Enter square meters:')\n",
    "square = input()\n",
    "print('Enter number of rooms:')\n",
    "number_of_rooms = input()\n",
    "print('Enter floor:')\n",
    "floor = input()\n",
    "print('Enter year build:')\n",
    "year_of_build = input()\n",
    "print('Enter year :')\n",
    "Year = input()\n",
    "df = pd.DataFrame({\"square\":square,\"number_of_rooms\":number_of_rooms,\"floor\":floor,\"year_of_build\":year_of_build,\"Year\":Year},index=[0])\n",
    "y_pred = linreg.predict(df)\n",
    "print(y_pred)\n",
    "\n"
   ]
  },
  {
   "cell_type": "markdown",
   "id": "e611a86f",
   "metadata": {},
   "source": [
    "# פלורנטין"
   ]
  },
  {
   "cell_type": "code",
   "execution_count": 16,
   "id": "eac84da3",
   "metadata": {},
   "outputs": [],
   "source": [
    "dfF=df_florentin.copy()\n",
    "dfF = dfF.rename(columns={\"price for meter\":\"price_for_meter\",\"number of rooms\":\"number_of_rooms\",\"year of build\":\"year_of_build\",\"total price\":\"total_price\"})\n",
    "\n",
    "dfF = dfF.drop(['Unnamed: 0'],axis = 1)"
   ]
  },
  {
   "cell_type": "code",
   "execution_count": 25,
   "id": "8719ff81",
   "metadata": {},
   "outputs": [
    {
     "data": {
      "text/plain": [
       "0.6773026153161953"
      ]
     },
     "execution_count": 25,
     "metadata": {},
     "output_type": "execute_result"
    }
   ],
   "source": [
    "X = dfF.drop(columns = ['total_price','Day','Month','adress','price_for_meter'])\n",
    "y = dfF['total_price']\n",
    "\n",
    "\n",
    "linreg = LinearRegression()\n",
    "X_train, X_test, y_train, y_test = train_test_split(X, y, test_size = 0.2)\n",
    "\n",
    "linreg.fit(X_train,y_train)\n",
    "y_pred = linreg.predict(X_test)\n",
    "evaluate_value = r2_score(y_test,y_pred)\n",
    "evaluate_value"
   ]
  },
  {
   "cell_type": "code",
   "execution_count": 26,
   "id": "3f7da677",
   "metadata": {},
   "outputs": [
    {
     "name": "stdout",
     "output_type": "stream",
     "text": [
      "Enter square meters:\n",
      "120\n",
      "Enter number of rooms:\n",
      "5\n",
      "Enter floor:\n",
      "8\n",
      "Enter year build:\n",
      "2018\n",
      "Enter year :\n",
      "2021\n",
      "[5233924.96773684]\n"
     ]
    }
   ],
   "source": [
    "print('Enter square meters:')\n",
    "square = input()\n",
    "print('Enter number of rooms:')\n",
    "number_of_rooms = input()\n",
    "print('Enter floor:')\n",
    "floor = input()\n",
    "print('Enter year build:')\n",
    "year_of_build = input()\n",
    "print('Enter year :')\n",
    "Year = input()\n",
    "df = pd.DataFrame({\"square\":square,\"number_of_rooms\":number_of_rooms,\"floor\":floor,\"year_of_build\":year_of_build,\"Year\":Year},index=[0])\n",
    "y_pred = linreg.predict(df)\n",
    "print(y_pred)\n"
   ]
  },
  {
   "cell_type": "markdown",
   "id": "5bda67a4",
   "metadata": {},
   "source": [
    "# כוכב הצפון"
   ]
  },
  {
   "cell_type": "code",
   "execution_count": 3,
   "id": "594a186e",
   "metadata": {},
   "outputs": [],
   "source": [
    "dfTNS=df_north_star.copy()\n",
    "dfTNS = dfTNS.rename(columns={\"price for meter\":\"price_for_meter\",\"number of rooms\":\"number_of_rooms\",\"year of build\":\"year_of_build\",\"total price\":\"total_price\"})\n",
    "\n",
    "dfTNS = dfTNS.drop(['Unnamed: 0'],axis = 1)"
   ]
  },
  {
   "cell_type": "code",
   "execution_count": 201,
   "id": "fc25ec49",
   "metadata": {},
   "outputs": [
    {
     "data": {
      "text/plain": [
       "0.7116272024387991"
      ]
     },
     "execution_count": 201,
     "metadata": {},
     "output_type": "execute_result"
    }
   ],
   "source": [
    "X = dfTNS.drop(columns = ['total_price','Day','Month','adress','price_for_meter'])\n",
    "y = dfTNS['total_price']\n",
    "\n",
    "\n",
    "linreg = LinearRegression()\n",
    "X_train, X_test, y_train, y_test = train_test_split(X, y, test_size = 0.2)\n",
    "\n",
    "linreg.fit(X_train,y_train)\n",
    "y_pred = linreg.predict(X_test)\n",
    "evaluate_value = r2_score(y_test,y_pred)\n",
    "evaluate_value"
   ]
  },
  {
   "cell_type": "code",
   "execution_count": 46,
   "id": "65ea1d30",
   "metadata": {},
   "outputs": [
    {
     "name": "stdout",
     "output_type": "stream",
     "text": [
      "Enter square meters:\n",
      "120\n",
      "Enter number of rooms:\n",
      "5\n",
      "Enter floor:\n",
      "8\n",
      "Enter year build:\n",
      "2018\n",
      "Enter year :\n",
      "2021\n",
      "[7233352.04147285]\n"
     ]
    }
   ],
   "source": [
    "print('Enter square meters:')\n",
    "square = input()\n",
    "print('Enter number of rooms:')\n",
    "number_of_rooms = input()\n",
    "print('Enter floor:')\n",
    "floor = input()\n",
    "print('Enter year build:')\n",
    "year_of_build = input()\n",
    "print('Enter year :')\n",
    "Year = input()\n",
    "df = pd.DataFrame({\"square\":square,\"number_of_rooms\":number_of_rooms,\"floor\":floor,\"year_of_build\":year_of_build,\"Year\":Year},index=[0])\n",
    "y_pred = linreg.predict(df)\n",
    "print(y_pred)\n"
   ]
  },
  {
   "cell_type": "markdown",
   "id": "089aa872",
   "metadata": {},
   "source": [
    "# קריית שלום"
   ]
  },
  {
   "cell_type": "code",
   "execution_count": 47,
   "id": "447b793a",
   "metadata": {},
   "outputs": [],
   "source": [
    "dfKS=df_kiryat_shalom.copy()\n",
    "dfKS = dfKS.rename(columns={\"price for meter\":\"price_for_meter\",\"number of rooms\":\"number_of_rooms\",\"year of build\":\"year_of_build\",\"total price\":\"total_price\"})\n",
    "\n",
    "dfKS = dfKS.drop(['Unnamed: 0'],axis = 1)"
   ]
  },
  {
   "cell_type": "code",
   "execution_count": 68,
   "id": "ec3ea012",
   "metadata": {},
   "outputs": [
    {
     "data": {
      "text/plain": [
       "0.6518456760956033"
      ]
     },
     "execution_count": 68,
     "metadata": {},
     "output_type": "execute_result"
    }
   ],
   "source": [
    "X = dfKS.drop(columns = ['total_price','Day','Month','adress','price_for_meter'])\n",
    "y = dfKS['total_price']\n",
    "\n",
    "\n",
    "linreg = LinearRegression()\n",
    "X_train, X_test, y_train, y_test = train_test_split(X, y, test_size = 0.2)\n",
    "\n",
    "linreg.fit(X_train,y_train)\n",
    "y_pred = linreg.predict(X_test)\n",
    "evaluate_value = r2_score(y_test,y_pred)\n",
    "evaluate_value"
   ]
  },
  {
   "cell_type": "code",
   "execution_count": 69,
   "id": "ab60dc2a",
   "metadata": {},
   "outputs": [
    {
     "name": "stdout",
     "output_type": "stream",
     "text": [
      "Enter square meters:\n",
      "120\n",
      "Enter number of rooms:\n",
      "5\n",
      "Enter floor:\n",
      "8\n",
      "Enter year build:\n",
      "2018\n",
      "Enter year :\n",
      "2021\n",
      "[2592789.06031427]\n"
     ]
    }
   ],
   "source": [
    "print('Enter square meters:')\n",
    "square = input()\n",
    "print('Enter number of rooms:')\n",
    "number_of_rooms = input()\n",
    "print('Enter floor:')\n",
    "floor = input()\n",
    "print('Enter year build:')\n",
    "year_of_build = input()\n",
    "print('Enter year :')\n",
    "Year = input()\n",
    "df = pd.DataFrame({\"square\":square,\"number_of_rooms\":number_of_rooms,\"floor\":floor,\"year_of_build\":year_of_build,\"Year\":Year},index=[0])\n",
    "y_pred = linreg.predict(df)\n",
    "print(y_pred)\n"
   ]
  },
  {
   "cell_type": "markdown",
   "id": "b91a941b",
   "metadata": {},
   "source": [
    "# הגוש הגדול"
   ]
  },
  {
   "cell_type": "code",
   "execution_count": 203,
   "id": "7dee4ae3",
   "metadata": {},
   "outputs": [],
   "source": [
    "dfHG=df_hagush_hagadol.copy()\n",
    "dfHG = dfHG.rename(columns={\"price for meter\":\"price_for_meter\",\"number of rooms\":\"number_of_rooms\",\"year of build\":\"year_of_build\",\"total price\":\"total_price\"})\n",
    "\n",
    "dfHG = dfHG.drop(['Unnamed: 0'],axis = 1)"
   ]
  },
  {
   "cell_type": "code",
   "execution_count": 213,
   "id": "dd25a0dd",
   "metadata": {},
   "outputs": [
    {
     "data": {
      "text/plain": [
       "0.6906360911151206"
      ]
     },
     "execution_count": 213,
     "metadata": {},
     "output_type": "execute_result"
    }
   ],
   "source": [
    "X = dfHG.drop(columns = ['total_price','Day','Month','adress','price_for_meter'])\n",
    "y = dfHG['total_price']\n",
    "\n",
    "\n",
    "linreg = LinearRegression()\n",
    "X_train, X_test, y_train, y_test = train_test_split(X, y, test_size = 0.2)\n",
    "\n",
    "linreg.fit(X_train,y_train)\n",
    "y_pred = linreg.predict(X_test)\n",
    "evaluate_value = r2_score(y_test,y_pred)\n",
    "evaluate_value"
   ]
  },
  {
   "cell_type": "code",
   "execution_count": 87,
   "id": "2c6f1fa5",
   "metadata": {},
   "outputs": [
    {
     "name": "stdout",
     "output_type": "stream",
     "text": [
      "Enter square meters:\n",
      "120\n",
      "Enter number of rooms:\n",
      "5\n",
      "Enter floor:\n",
      "8\n",
      "Enter year build:\n",
      "2018\n",
      "Enter year :\n",
      "2021\n",
      "[5467472.95899981]\n"
     ]
    }
   ],
   "source": [
    "print('Enter square meters:')\n",
    "square = input()\n",
    "print('Enter number of rooms:')\n",
    "number_of_rooms = input()\n",
    "print('Enter floor:')\n",
    "floor = input()\n",
    "print('Enter year build:')\n",
    "year_of_build = input()\n",
    "print('Enter year :')\n",
    "Year = input()\n",
    "df = pd.DataFrame({\"square\":square,\"number_of_rooms\":number_of_rooms,\"floor\":floor,\"year_of_build\":year_of_build,\"Year\":Year},index=[0])\n",
    "y_pred = linreg.predict(df)\n",
    "print(y_pred)\n"
   ]
  },
  {
   "cell_type": "code",
   "execution_count": null,
   "id": "ae9ac2b6",
   "metadata": {},
   "outputs": [],
   "source": []
  }
 ],
 "metadata": {
  "kernelspec": {
   "display_name": "Python 3",
   "language": "python",
   "name": "python3"
  },
  "language_info": {
   "codemirror_mode": {
    "name": "ipython",
    "version": 3
   },
   "file_extension": ".py",
   "mimetype": "text/x-python",
   "name": "python",
   "nbconvert_exporter": "python",
   "pygments_lexer": "ipython3",
   "version": "3.8.8"
  }
 },
 "nbformat": 4,
 "nbformat_minor": 5
}
