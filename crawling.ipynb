{
 "cells": [
  {
   "cell_type": "code",
   "execution_count": null,
   "id": "ea3ba94f",
   "metadata": {},
   "outputs": [],
   "source": [
    "from bs4 import BeautifulSoup\n",
    "import bs4\n",
    "import time\n",
    "import os\n",
    "import requests\n",
    "import re\n",
    "\n",
    "import selenium\n",
    "from selenium import webdriver\n",
    "from selenium.webdriver.common.by import By\n",
    "from selenium.webdriver.common.keys import Keys\n",
    "from selenium.webdriver.support.ui import WebDriverWait\n",
    "from selenium.webdriver.support import expected_conditions as EC\n",
    "from selenium.webdriver.support.expected_conditions import presence_of_element_located\n",
    "from selenium.webdriver.chrome.options import Options\n",
    "\n",
    "\n",
    "import pandas as pd\n",
    "import scipy as sc\n",
    "import numpy as np"
   ]
  },
  {
   "cell_type": "code",
   "execution_count": null,
   "id": "97d1b8a7",
   "metadata": {},
   "outputs": [],
   "source": [
    "df = pd.read_csv(\"df_neve_ofer.csv\")\n",
    "df"
   ]
  },
  {
   "cell_type": "code",
   "execution_count": null,
   "id": "20bf75e1",
   "metadata": {},
   "outputs": [],
   "source": [
    "PATH = \"C:\\\\Users\\\\benpe\\\\Desktop\\\\chromedriver.exe\"\n",
    "\n",
    "url_neve_ofer = \"https://www.madlan.co.il/area-info/%D7%A9%D7%9B%D7%95%D7%A0%D7%94-%D7%A0%D7%95%D7%95%D7%94-%D7%A2%D7%95%D7%A4%D7%A8-%D7%AA%D7%9C-%D7%90%D7%91%D7%99%D7%91-%D7%99%D7%A4%D7%95-%D7%99%D7%A9%D7%A8%D7%90%D7%9C?term=%D7%A9%D7%9B%D7%95%D7%A0%D7%94-%D7%A0%D7%95%D7%95%D7%94-%D7%A2%D7%95%D7%A4%D7%A8-%D7%AA%D7%9C-%D7%90%D7%91%D7%99%D7%91-%D7%99%D7%A4%D7%95-%D7%99%D7%A9%D7%A8%D7%90%D7%9C&tracking_search_source=new_search&dealType=sale&marketplace=residential\"\n",
    "url_Hagush_Hagadol = \"https://www.madlan.co.il/area-info/%D7%A9%D7%9B%D7%95%D7%A0%D7%94-%D7%94%D7%92%D7%95%D7%A9-%D7%94%D7%92%D7%93%D7%95%D7%9C-%D7%AA%D7%9C-%D7%90%D7%91%D7%99%D7%91-%D7%99%D7%A4%D7%95-%D7%99%D7%A9%D7%A8%D7%90%D7%9C?term=%D7%A9%D7%9B%D7%95%D7%A0%D7%94-%D7%94%D7%92%D7%95%D7%A9-%D7%94%D7%92%D7%93%D7%95%D7%9C-%D7%AA%D7%9C-%D7%90%D7%91%D7%99%D7%91-%D7%99%D7%A4%D7%95-%D7%99%D7%A9%D7%A8%D7%90%D7%9C&tracking_search_source=new_search&dealType=sale&marketplace=residential\"\n",
    "url_Kiriyat_Shalom = \"https://www.madlan.co.il/area-info/%D7%A9%D7%9B%D7%95%D7%A0%D7%94-%D7%A7%D7%A8%D7%99%D7%AA-%D7%A9%D7%9C%D7%95%D7%9D-%D7%AA%D7%9C-%D7%90%D7%91%D7%99%D7%91-%D7%99%D7%A4%D7%95-%D7%99%D7%A9%D7%A8%D7%90%D7%9C?term=%D7%A9%D7%9B%D7%95%D7%A0%D7%94-%D7%A7%D7%A8%D7%99%D7%AA-%D7%A9%D7%9C%D7%95%D7%9D-%D7%AA%D7%9C-%D7%90%D7%91%D7%99%D7%91-%D7%99%D7%A4%D7%95-%D7%99%D7%A9%D7%A8%D7%90%D7%9C&tracking_search_source=new_search&dealType=sale&marketplace=residential\"\n",
    "url_Florentin = \"https://www.madlan.co.il/area-info/%D7%A9%D7%9B%D7%95%D7%A0%D7%94-%D7%A4%D7%9C%D7%95%D7%A8%D7%A0%D7%98%D7%99%D7%9F-%D7%AA%D7%9C-%D7%90%D7%91%D7%99%D7%91-%D7%99%D7%A4%D7%95-%D7%99%D7%A9%D7%A8%D7%90%D7%9C?term=%D7%A9%D7%9B%D7%95%D7%A0%D7%94-%D7%A4%D7%9C%D7%95%D7%A8%D7%A0%D7%98%D7%99%D7%9F-%D7%AA%D7%9C-%D7%90%D7%91%D7%99%D7%91-%D7%99%D7%A4%D7%95-%D7%99%D7%A9%D7%A8%D7%90%D7%9C&tracking_search_source=check_address&marketplace=residential\"\n",
    "url_neve_shaanan = \"https://www.madlan.co.il/area-info/%D7%A9%D7%9B%D7%95%D7%A0%D7%94-%D7%A0%D7%95%D7%94-%D7%A9%D7%90%D7%A0%D7%9F-%D7%AA%D7%9C-%D7%90%D7%91%D7%99%D7%91-%D7%99%D7%A4%D7%95-%D7%99%D7%A9%D7%A8%D7%90%D7%9C?term=%D7%A9%D7%9B%D7%95%D7%A0%D7%94-%D7%A0%D7%95%D7%94-%D7%A9%D7%90%D7%A0%D7%9F-%D7%AA%D7%9C-%D7%90%D7%91%D7%99%D7%91-%D7%99%D7%A4%D7%95-%D7%99%D7%A9%D7%A8%D7%90%D7%9C&tracking_search_source=new_search&dealType=sale&marketplace=residential\"\n",
    "url_north_star = \"https://www.madlan.co.il/area-info/%D7%A9%D7%9B%D7%95%D7%A0%D7%94-%D7%9B%D7%95%D7%9B%D7%91-%D7%94%D7%A6%D7%A4%D7%95%D7%9F-%D7%AA%D7%9C-%D7%90%D7%91%D7%99%D7%91-%D7%99%D7%A4%D7%95-%D7%99%D7%A9%D7%A8%D7%90%D7%9C?term=%D7%A9%D7%9B%D7%95%D7%A0%D7%94-%D7%9B%D7%95%D7%9B%D7%91-%D7%94%D7%A6%D7%A4%D7%95%D7%9F-%D7%AA%D7%9C-%D7%90%D7%91%D7%99%D7%91-%D7%99%D7%A4%D7%95-%D7%99%D7%A9%D7%A8%D7%90%D7%9C&tracking_search_source=new_search&dealType=sale&marketplace=residential\"\n",
    "\n"
   ]
  },
  {
   "cell_type": "markdown",
   "id": "09602570",
   "metadata": {},
   "source": [
    "# crawling neighborhood function"
   ]
  },
  {
   "cell_type": "code",
   "execution_count": null,
   "id": "12268c8a",
   "metadata": {},
   "outputs": [],
   "source": [
    "    driver = webdriver.Chrome(PATH)\n",
    "    driver.get(url_florentin_TLV)"
   ]
  },
  {
   "cell_type": "code",
   "execution_count": null,
   "id": "c8586cc1",
   "metadata": {},
   "outputs": [],
   "source": [
    "def apartment(url,pages):\n",
    "    driver = webdriver.Chrome(PATH)\n",
    "    driver.get(url)\n",
    "    adress=[]\n",
    "    date = []\n",
    "    squre = []\n",
    "    price_for_meter = []\n",
    "    number_of_rooms = []\n",
    "    flor = []\n",
    "    year_build = []\n",
    "    total_price=[]\n",
    "    size = 0\n",
    "    while size < pages:\n",
    "        try:\n",
    "            table = WebDriverWait(driver, 10).until(\n",
    "                    EC.presence_of_element_located((By.CLASS_NAME, \"e1j7jud64\"))\n",
    "                )\n",
    "            body = table.find_element_by_class_name(\"tbody\")\n",
    "            cell = body.find_elements_by_class_name(\"table-cell\")\n",
    "            for i in range(0,72):\n",
    "                if i %9==0:\n",
    "                        adress.append(cell[i].text)\n",
    "                if i %9==1:\n",
    "                        date.append(cell[i].text)\n",
    "                if i %9==2:\n",
    "                        total_price.append(cell[i].text)\n",
    "                if i %9==3:\n",
    "                        squre.append(cell[i].text)\n",
    "                if i %9==4:\n",
    "                        price_for_meter.append(cell[i].text)\n",
    "                if i %9==5:\n",
    "                        number_of_rooms.append(cell[i].text)\n",
    "                if i %9==6:\n",
    "                        flor.append(cell[i].text)\n",
    "                if i %9==7:\n",
    "                        year_build.append(cell[i].text)\n",
    "\n",
    "\n",
    "            size = size + 1\n",
    "            dan = driver.find_element_by_class_name(\"css-1smt1r7\")\n",
    "            dan.find_element_by_class_name(\"css-qkpft0\").click() # go to next page \n",
    "            time.sleep(5)\n",
    "\n",
    "        except:\n",
    "            \n",
    "            print(size)\n",
    "            #end of while    \n",
    "    df = pd.DataFrame({\"adress\":adress,\"date\":date,\"square\":squre,\"price for meter\":price_for_meter,\"number of rooms\":number_of_rooms,\"floor\":flor,\"year of build\":year_build,\"total price\":total_price})\n",
    "    return df   "
   ]
  },
  {
   "cell_type": "code",
   "execution_count": null,
   "id": "e99ec798",
   "metadata": {},
   "outputs": [],
   "source": [
    "\n",
    "\n"
   ]
  },
  {
   "cell_type": "code",
   "execution_count": null,
   "id": "2ded30f3",
   "metadata": {},
   "outputs": [],
   "source": [
    "url_neve_ofer_TLV=apartment(url_neve_ofer_TLV,124)"
   ]
  },
  {
   "cell_type": "code",
   "execution_count": null,
   "id": "abee02af",
   "metadata": {},
   "outputs": [],
   "source": [
    "df_hagosh_hagadol_TLV=apartment(url_florentin_TLV,124)\n"
   ]
  },
  {
   "cell_type": "code",
   "execution_count": null,
   "id": "dd6e4c0f",
   "metadata": {},
   "outputs": [],
   "source": [
    "df_florentin_TLV=apartment(url_florentin_TLV,124)"
   ]
  },
  {
   "cell_type": "code",
   "execution_count": null,
   "id": "603bb944",
   "metadata": {},
   "outputs": [],
   "source": [
    "df_kryat_shalom_TLV=apartment(url_kryat_shalom_TLV,124)\n"
   ]
  },
  {
   "cell_type": "code",
   "execution_count": null,
   "id": "2fdcb799",
   "metadata": {},
   "outputs": [],
   "source": [
    "url_neve_shaanan_TLV=apartment(url_neve_shaanan_TLV,124)\n"
   ]
  },
  {
   "cell_type": "code",
   "execution_count": null,
   "id": "71bb0b48",
   "metadata": {},
   "outputs": [],
   "source": [
    "url_north_star_TLV=apartment(url_north_star_TLV,124)\n"
   ]
  },
  {
   "cell_type": "markdown",
   "id": "fd366d57",
   "metadata": {},
   "source": [
    "function crawling information about the neighborhood"
   ]
  },
  {
   "cell_type": "code",
   "execution_count": 1,
   "id": "fe623665",
   "metadata": {},
   "outputs": [],
   "source": [
    "\n",
    "def neighborhood_info(url):\n",
    "    \n",
    "    driver = webdriver.Chrome(PATH)\n",
    "    driver.get(url)\n",
    "    time.sleep(10)\n",
    "    \n",
    "    \n",
    "    \n",
    "    table = driver.find_element(By.CLASS_NAME,\"erkaxs90\")\n",
    "    \n",
    "    \n",
    "    cell_Average_rent = table.find_element(By.CSS_SELECTOR,'#root > div > main > div.css-0.e142rc1o1 > div > div.css-hshm0p.e142rc1o11 > div:nth-child(2) > div.css-ahwndd.erkaxs90 > div:nth-child(2)')\n",
    "    Average_rent = cell_Average_rent.find_element(By.CLASS_NAME,'erkaxs93').text\n",
    "    print(Average_rent)\n",
    "    \n",
    "    cell_School_grade = table.find_element(By.CSS_SELECTOR,'#root > div > main > div.css-0.e142rc1o1 > div > div.css-hshm0p.e142rc1o11 > div:nth-child(2) > div.css-ahwndd.erkaxs90 > div:nth-child(3)')\n",
    "    School_grade = cell_School_grade.find_element(By.CLASS_NAME,'erkaxs93').text\n",
    "    print(School_grade)\n",
    "    \n",
    "    cell_Socio_economic = table.find_element(By.CSS_SELECTOR,'#root > div > main > div.css-0.e142rc1o1 > div > div.css-hshm0p.e142rc1o11 > div:nth-child(2) > div.css-ahwndd.erkaxs90 > div:nth-child(6)')\n",
    "    Socio_economic = cell_Socio_economic.find_element(By.CLASS_NAME,'erkaxs93').text\n",
    "    print(Socio_economic)        \n",
    "    \n",
    "    i=0\n",
    "    table1 = driver.find_element(By.CLASS_NAME,'ep3miqc14')\n",
    "   \n",
    "\n",
    "    body = table1.find_element_by_class_name('epm0aoo14')\n",
    "    Cleanliness_Maintenance = body.find_element(By.CSS_SELECTOR,'#root > div > main > div.css-0.e142rc1o1 > div > div.css-hshm0p.e142rc1o11 > div:nth-child(5) > div > div > div.css-8x9i77.epm0aoo13 > div > div > div:nth-child(1) > div.css-plyl8a.e3vrfmg5').text\n",
    "    print(Cleanliness_Maintenance)\n",
    "    \n",
    "    body1 = table1.find_element(By.CSS_SELECTOR,'#root > div > main > div.css-0.e142rc1o1 > div > div.css-hshm0p.e142rc1o11 > div:nth-child(5) > div > div > div.css-8x9i77.epm0aoo13 > div > div > div:nth-child(3)')\n",
    "    Kindergarten = body1.find_element(By.CSS_SELECTOR,'#root > div > main > div.css-0.e142rc1o1 > div > div.css-hshm0p.e142rc1o11 > div:nth-child(5) > div > div > div.css-8x9i77.epm0aoo13 > div > div > div:nth-child(3) > div.css-plyl8a.e3vrfmg5').text    \n",
    "    print(Kindergarten)\n",
    "    \n",
    "    body2 = table1.find_element(By.CSS_SELECTOR,'#root > div > main > div.css-0.e142rc1o1 > div > div.css-hshm0p.e142rc1o11 > div:nth-child(5) > div > div > div.css-8x9i77.epm0aoo13 > div > div > div:nth-child(4)')\n",
    "    Parking = body2.find_element(By.CSS_SELECTOR,'#root > div > main > div.css-0.e142rc1o1 > div > div.css-hshm0p.e142rc1o11 > div:nth-child(5) > div > div > div.css-8x9i77.epm0aoo13 > div > div > div:nth-child(4) > div.css-plyl8a.e3vrfmg5').text\n",
    "    print(Parking)\n",
    "    \n",
    "    body3 = table1.find_element(By.CSS_SELECTOR,'#root > div > main > div.css-0.e142rc1o1 > div > div.css-hshm0p.e142rc1o11 > div:nth-child(5) > div > div > div.css-8x9i77.epm0aoo13 > div > div > div:nth-child(5)')\n",
    "    Gardens = body3.find_element(By.CSS_SELECTOR,'#root > div > main > div.css-0.e142rc1o1 > div > div.css-hshm0p.e142rc1o11 > div:nth-child(5) > div > div > div.css-8x9i77.epm0aoo13 > div > div > div:nth-child(5) > div.css-plyl8a.e3vrfmg5').text\n",
    "    print(Gardens)\n",
    "    \n",
    "    body4 = table1.find_element(By.CSS_SELECTOR,'#root > div > main > div.css-0.e142rc1o1 > div > div.css-hshm0p.e142rc1o11 > div:nth-child(5) > div > div > div.css-8x9i77.epm0aoo13 > div > div > div:nth-child(6)')\n",
    "    Recreation_and_leisure = body4.find_element(By.CSS_SELECTOR,'#root > div > main > div.css-0.e142rc1o1 > div > div.css-hshm0p.e142rc1o11 > div:nth-child(5) > div > div > div.css-8x9i77.epm0aoo13 > div > div > div:nth-child(6) > div.css-plyl8a.e3vrfmg5').text\n",
    "    print(Recreation_and_leisure)\n",
    "   \n",
    "    body5 = table1.find_element(By.CSS_SELECTOR,'#root > div > main > div.css-0.e142rc1o1 > div > div.css-hshm0p.e142rc1o11 > div:nth-child(5) > div > div > div.css-8x9i77.epm0aoo13 > div > div > div:nth-child(7)')\n",
    "    Public_Transport = body5.find_element(By.CSS_SELECTOR,'#root > div > main > div.css-0.e142rc1o1 > div > div.css-hshm0p.e142rc1o11 > div:nth-child(5) > div > div > div.css-8x9i77.epm0aoo13 > div > div > div:nth-child(7) > div.css-plyl8a.e3vrfmg5').text\n",
    "    print(Public_Transport)\n",
    "    \n",
    "    body6 = table1.find_element(By.CSS_SELECTOR,'#root > div > main > div.css-0.e142rc1o1 > div > div.css-hshm0p.e142rc1o11 > div:nth-child(5) > div > div > div.css-8x9i77.epm0aoo13 > div > div > div:nth-child(8)')\n",
    "    Feeling_confident = body6.find_element(By.CSS_SELECTOR,'#root > div > main > div.css-0.e142rc1o1 > div > div.css-hshm0p.e142rc1o11 > div:nth-child(5) > div > div > div.css-8x9i77.epm0aoo13 > div > div > div:nth-child(8) > div.css-plyl8a.e3vrfmg5').text\n",
    "    print(Feeling_confident)\n",
    "    \n",
    "    body7 = table1.find_element(By.CSS_SELECTOR,'#root > div > main > div.css-0.e142rc1o1 > div > div.css-hshm0p.e142rc1o11 > div:nth-child(5) > div > div > div.css-8x9i77.epm0aoo13 > div > div > div:nth-child(10)')\n",
    "    Shopping = body7.find_element(By.CSS_SELECTOR,'#root > div > main > div.css-0.e142rc1o1 > div > div.css-hshm0p.e142rc1o11 > div:nth-child(5) > div > div > div.css-8x9i77.epm0aoo13 > div > div > div:nth-child(10) > div.css-plyl8a.e3vrfmg5').text\n",
    "    print(Shopping)\n",
    "    \n",
    "    body8 = table1.find_element(By.CSS_SELECTOR,'#root > div > main > div.css-0.e142rc1o1 > div > div.css-hshm0p.e142rc1o11 > div:nth-child(5) > div > div > div.css-8x9i77.epm0aoo13 > div > div > div:nth-child(12)')\n",
    "    Pedestrian_comfort = body8.find_element(By.CSS_SELECTOR,'#root > div > main > div.css-0.e142rc1o1 > div > div.css-hshm0p.e142rc1o11 > div:nth-child(5) > div > div > div.css-8x9i77.epm0aoo13 > div > div > div:nth-child(12)').text\n",
    "    print(Pedestrian_comfort)        \n",
    "    \n",
    "    df_info_neighborhood = pd.DataFrame({\"Average_rent\":Average_rent,\"School_grade\":School_grade,\"Socio_economic\":Socio_economic,\"Cleanliness_Maintenance\":Cleanliness_Maintenance,\"Kindergarten\":Kindergarten,\"Parking\":Parking,\"Public_Transport\":Public_Transport,\"Feeling_confident\":Feeling_confident,\n",
    "                                        \"Gardens\":Gardens,\"Recreation_and_leisure\":Recreation_and_leisure,\"Shopping\":Shopping,\"Pedestrian_comfort\":Pedestrian_comfort}, index=[0])  \n",
    "    \n",
    "    driver.close()   \n"
   ]
  },
  {
   "cell_type": "code",
   "execution_count": null,
   "id": "f223b074",
   "metadata": {},
   "outputs": [],
   "source": [
    "temp = df_info_neighborhood_neve_ofer.append(df_info_neighborhood_Hagush_Hagadol, ignore_index=True)\n",
    "temp1 = temp.append(df_info_neighborhood_Kiriyat_Shalom, ignore_index=True)\n",
    "temp2 = temp1.append(df_info_neighborhood_Florentin, ignore_index=True)\n",
    "bigdata = temp2.append(df_info_neighborhood_neve_shaanan,  ignore_index=True)\n",
    "\n",
    "df_info_neighborhoods = bigdata.append(df_info_neighborhood_north_star, ignore_index=True)\n",
    "\n",
    "df_info_neighborhoods.index = ['נווה עופר','הגוש הגדול','קרית שלום','פלורנטין', 'נווה שאנן', 'כוכב הצפון'] \n",
    "\n",
    "df_info_neighborhoods.to_csv(r'/Users/bennybatash/Desktop/פרויקט בבא/info_neigh.csv')"
   ]
  }
 ],
 "metadata": {
  "kernelspec": {
   "display_name": "Python 3",
   "language": "python",
   "name": "python3"
  },
  "language_info": {
   "codemirror_mode": {
    "name": "ipython",
    "version": 3
   },
   "file_extension": ".py",
   "mimetype": "text/x-python",
   "name": "python",
   "nbconvert_exporter": "python",
   "pygments_lexer": "ipython3",
   "version": "3.8.8"
  }
 },
 "nbformat": 4,
 "nbformat_minor": 5
}
