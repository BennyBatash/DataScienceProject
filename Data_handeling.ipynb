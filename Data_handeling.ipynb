{
 "cells": [
  {
   "cell_type": "markdown",
   "id": "d517817d",
   "metadata": {},
   "source": [
    "# data handling"
   ]
  },
  {
   "cell_type": "code",
   "execution_count": 17,
   "id": "d34ec64f",
   "metadata": {},
   "outputs": [],
   "source": [
    "import pandas as pd\n",
    "import numpy as np\n",
    "import matplotlib.pyplot as plt\n",
    "import seaborn as sns\n",
    "import os\n",
    "\n",
    "#pd.options.mode.chained_assignment = None\n",
    "%matplotlib inline\n"
   ]
  },
  {
   "cell_type": "markdown",
   "id": "12a9f00a",
   "metadata": {},
   "source": [
    "# Cleaning Data function"
   ]
  },
  {
   "cell_type": "code",
   "execution_count": 23,
   "id": "af523caa",
   "metadata": {},
   "outputs": [],
   "source": [
    "def Data_h(df):\n",
    "    df.drop('Unnamed: 0',axis=1,inplace=True)\n",
    "    df['floor'] = df['floor'].replace('ק', '0')\n",
    "    df['floor'] = df['floor'].str.replace(r'\\D', '')\n",
    "    df['floor']=pd.to_numeric(df['floor'])\n",
    "   #\n",
    "    df.drop(columns=['total price'],inplace =True)\n",
    "    df.insert(7, 'total price', 0)\n",
    "    #\n",
    "    df['price for meter'] = df['price for meter'].str.replace(r'\\D', '')\n",
    "    df['price for meter']=pd.to_numeric(df['price for meter'])\n",
    "    #\n",
    "    # \n",
    "    df['square'] = df['square'].str.replace(r'\\D', '')\n",
    "    df['square']=pd.to_numeric(df['square'])\n",
    "    #\n",
    "    df['total price']=df['square']*df['price for meter']\n",
    "    #\n",
    "    #\n",
    "    df['Day'] = [d.split('.')[0] for d in df.date]\n",
    "    df['Month'] = [d.split('.')[1] for d in df.date]\n",
    "    df['Year'] = [d.split('.')[2] for d in df.date]\n",
    "    df.drop(columns=['date'],inplace =True)\n",
    "    #\n",
    "    df['Day']=pd.to_numeric(df['Day'])\n",
    "    df['Month']=pd.to_numeric(df['Month'])\n",
    "    df['Year']=pd.to_numeric(df['Year'])\n",
    "    \n",
    "    \n",
    "    \n",
    "    \n",
    "    #-------------------------------------------------------------------------------------------------------\n",
    "    \n",
    "    \n",
    "\n",
    "    \n",
    "    #-------------------------------------------------------------------------------------------------------------\n",
    "    sns.boxplot(x = df['number of rooms'])\n",
    "\n",
    "    Q1 = np.percentile(df['number of rooms'] , 25)\n",
    "    Q3 = np.percentile(df['number of rooms'] , 75)\n",
    "    IQR = Q3 - Q1\n",
    "    \n",
    "    \n",
    "    df['number of rooms'][(df['number of rooms'] < Q1 - IQR ) | (df['number of rooms'] > Q3 + 2.5*IQR)] = np.nan\n",
    "    df = df[df['number of rooms'].notna()]\n",
    "    \n",
    "    \n",
    "    \n",
    "    sns.boxplot(x = df['total price'])\n",
    "\n",
    "    Q1 = np.percentile(df['total price'] , 25)\n",
    "    Q3 = np.percentile(df['total price'] , 75)\n",
    "    IQR = Q3 - Q1\n",
    "    \n",
    "    \n",
    "    df['total price'][(df['total price'] < Q1 - IQR ) | (df['total price'] > Q3 + 2.5*IQR)] = np.nan\n",
    "    df = df[df['total price'].notna()]\n",
    "    \n",
    "    \n",
    "    \n",
    "    \n",
    "    \n",
    "    \n",
    "    \n",
    "    df=df.dropna()\n",
    "    df.duplicated()\n",
    "   \n",
    "    \n",
    "    return df"
   ]
  },
  {
   "cell_type": "code",
   "execution_count": null,
   "id": "1e237c56",
   "metadata": {},
   "outputs": [],
   "source": []
  },
  {
   "cell_type": "code",
   "execution_count": 25,
   "id": "6dc41672",
   "metadata": {},
   "outputs": [
    {
     "name": "stderr",
     "output_type": "stream",
     "text": [
      "<ipython-input-23-80699676a023>:4: FutureWarning: The default value of regex will change from True to False in a future version.\n",
      "  df['floor'] = df['floor'].str.replace(r'\\D', '')\n",
      "<ipython-input-23-80699676a023>:10: FutureWarning: The default value of regex will change from True to False in a future version.\n",
      "  df['price for meter'] = df['price for meter'].str.replace(r'\\D', '')\n",
      "<ipython-input-23-80699676a023>:14: FutureWarning: The default value of regex will change from True to False in a future version.\n",
      "  df['square'] = df['square'].str.replace(r'\\D', '')\n",
      "<ipython-input-23-80699676a023>:45: SettingWithCopyWarning: \n",
      "A value is trying to be set on a copy of a slice from a DataFrame\n",
      "\n",
      "See the caveats in the documentation: https://pandas.pydata.org/pandas-docs/stable/user_guide/indexing.html#returning-a-view-versus-a-copy\n",
      "  df['number of rooms'][(df['number of rooms'] < Q1 - IQR ) | (df['number of rooms'] > Q3 + 2.5*IQR)] = np.nan\n",
      "<ipython-input-23-80699676a023>:57: SettingWithCopyWarning: \n",
      "A value is trying to be set on a copy of a slice from a DataFrame\n",
      "\n",
      "See the caveats in the documentation: https://pandas.pydata.org/pandas-docs/stable/user_guide/indexing.html#returning-a-view-versus-a-copy\n",
      "  df['total price'][(df['total price'] < Q1 - IQR ) | (df['total price'] > Q3 + 2.5*IQR)] = np.nan\n",
      "C:\\Users\\benpe\\Downloads\\pythonG\\lib\\site-packages\\pandas\\core\\series.py:992: SettingWithCopyWarning: \n",
      "A value is trying to be set on a copy of a slice from a DataFrame\n",
      "\n",
      "See the caveats in the documentation: https://pandas.pydata.org/pandas-docs/stable/user_guide/indexing.html#returning-a-view-versus-a-copy\n",
      "  self._where(~key, value, inplace=True)\n"
     ]
    },
    {
     "data": {
      "image/png": "[encoded data removed]",
      "text/plain": [
       "<Figure size 432x288 with 1 Axes>"
      ]
     },
     "metadata": {
      "needs_background": "light"
     },
     "output_type": "display_data"
    }
   ],
   "source": [
    "df_hagush_hagadol1=pd.read_csv(\"df_big_gush.csv\")\n",
    "df_hagush_hagadol1[\"adress\"]=1\n",
    "df_hagush_hagadol1 = Data_h(df_hagush_hagadol1)\n",
    "df_hagush_hagadol1.to_csv(\"df_hagush_hagadol1EDA.cvs\")"
   ]
  },
  {
   "cell_type": "code",
   "execution_count": 26,
   "id": "4c56aea3",
   "metadata": {},
   "outputs": [
    {
     "name": "stderr",
     "output_type": "stream",
     "text": [
      "<ipython-input-23-80699676a023>:4: FutureWarning: The default value of regex will change from True to False in a future version.\n",
      "  df['floor'] = df['floor'].str.replace(r'\\D', '')\n",
      "<ipython-input-23-80699676a023>:10: FutureWarning: The default value of regex will change from True to False in a future version.\n",
      "  df['price for meter'] = df['price for meter'].str.replace(r'\\D', '')\n",
      "<ipython-input-23-80699676a023>:14: FutureWarning: The default value of regex will change from True to False in a future version.\n",
      "  df['square'] = df['square'].str.replace(r'\\D', '')\n",
      "<ipython-input-23-80699676a023>:45: SettingWithCopyWarning: \n",
      "A value is trying to be set on a copy of a slice from a DataFrame\n",
      "\n",
      "See the caveats in the documentation: https://pandas.pydata.org/pandas-docs/stable/user_guide/indexing.html#returning-a-view-versus-a-copy\n",
      "  df['number of rooms'][(df['number of rooms'] < Q1 - IQR ) | (df['number of rooms'] > Q3 + 2.5*IQR)] = np.nan\n",
      "<ipython-input-23-80699676a023>:57: SettingWithCopyWarning: \n",
      "A value is trying to be set on a copy of a slice from a DataFrame\n",
      "\n",
      "See the caveats in the documentation: https://pandas.pydata.org/pandas-docs/stable/user_guide/indexing.html#returning-a-view-versus-a-copy\n",
      "  df['total price'][(df['total price'] < Q1 - IQR ) | (df['total price'] > Q3 + 2.5*IQR)] = np.nan\n",
      "C:\\Users\\benpe\\Downloads\\pythonG\\lib\\site-packages\\pandas\\core\\series.py:992: SettingWithCopyWarning: \n",
      "A value is trying to be set on a copy of a slice from a DataFrame\n",
      "\n",
      "See the caveats in the documentation: https://pandas.pydata.org/pandas-docs/stable/user_guide/indexing.html#returning-a-view-versus-a-copy\n",
      "  self._where(~key, value, inplace=True)\n"
     ]
    },
    {
     "data": {
      "image/png": "[encoded data removed]",
      "text/plain": [
       "<Figure size 432x288 with 1 Axes>"
      ]
     },
     "metadata": {
      "needs_background": "light"
     },
     "output_type": "display_data"
    }
   ],
   "source": [
    "df_florentin=pd.read_csv(\"df_florentin.csv\")\n",
    "df_florentin[\"adress\"]=2\n",
    "df_florentin=Data_h(df_florentin)\n",
    "df_florentin.to_csv(\"df_florentinEDA.cvs\")"
   ]
  },
  {
   "cell_type": "code",
   "execution_count": 27,
   "id": "ec789e29",
   "metadata": {},
   "outputs": [
    {
     "name": "stderr",
     "output_type": "stream",
     "text": [
      "<ipython-input-23-80699676a023>:4: FutureWarning: The default value of regex will change from True to False in a future version.\n",
      "  df['floor'] = df['floor'].str.replace(r'\\D', '')\n",
      "<ipython-input-23-80699676a023>:10: FutureWarning: The default value of regex will change from True to False in a future version.\n",
      "  df['price for meter'] = df['price for meter'].str.replace(r'\\D', '')\n",
      "<ipython-input-23-80699676a023>:14: FutureWarning: The default value of regex will change from True to False in a future version.\n",
      "  df['square'] = df['square'].str.replace(r'\\D', '')\n",
      "<ipython-input-23-80699676a023>:45: SettingWithCopyWarning: \n",
      "A value is trying to be set on a copy of a slice from a DataFrame\n",
      "\n",
      "See the caveats in the documentation: https://pandas.pydata.org/pandas-docs/stable/user_guide/indexing.html#returning-a-view-versus-a-copy\n",
      "  df['number of rooms'][(df['number of rooms'] < Q1 - IQR ) | (df['number of rooms'] > Q3 + 2.5*IQR)] = np.nan\n",
      "<ipython-input-23-80699676a023>:57: SettingWithCopyWarning: \n",
      "A value is trying to be set on a copy of a slice from a DataFrame\n",
      "\n",
      "See the caveats in the documentation: https://pandas.pydata.org/pandas-docs/stable/user_guide/indexing.html#returning-a-view-versus-a-copy\n",
      "  df['total price'][(df['total price'] < Q1 - IQR ) | (df['total price'] > Q3 + 2.5*IQR)] = np.nan\n",
      "C:\\Users\\benpe\\Downloads\\pythonG\\lib\\site-packages\\pandas\\core\\series.py:992: SettingWithCopyWarning: \n",
      "A value is trying to be set on a copy of a slice from a DataFrame\n",
      "\n",
      "See the caveats in the documentation: https://pandas.pydata.org/pandas-docs/stable/user_guide/indexing.html#returning-a-view-versus-a-copy\n",
      "  self._where(~key, value, inplace=True)\n"
     ]
    },
    {
     "data": {
      "image/png": "[encoded data removed]",
      "text/plain": [
       "<Figure size 432x288 with 1 Axes>"
      ]
     },
     "metadata": {
      "needs_background": "light"
     },
     "output_type": "display_data"
    }
   ],
   "source": [
    "df_neve_ofer=pd.read_csv(\"df_neve_ofer.csv\")\n",
    "df_neve_ofer[\"adress\"]=3\n",
    "df_neve_ofer=Data_h(df_neve_ofer)\n",
    "df_neve_ofer.to_csv(\"df_neve_oferEDA.cvs\")"
   ]
  },
  {
   "cell_type": "code",
   "execution_count": 28,
   "id": "c5fa80b0",
   "metadata": {},
   "outputs": [
    {
     "name": "stderr",
     "output_type": "stream",
     "text": [
      "<ipython-input-23-80699676a023>:4: FutureWarning: The default value of regex will change from True to False in a future version.\n",
      "  df['floor'] = df['floor'].str.replace(r'\\D', '')\n",
      "<ipython-input-23-80699676a023>:10: FutureWarning: The default value of regex will change from True to False in a future version.\n",
      "  df['price for meter'] = df['price for meter'].str.replace(r'\\D', '')\n",
      "<ipython-input-23-80699676a023>:14: FutureWarning: The default value of regex will change from True to False in a future version.\n",
      "  df['square'] = df['square'].str.replace(r'\\D', '')\n",
      "<ipython-input-23-80699676a023>:45: SettingWithCopyWarning: \n",
      "A value is trying to be set on a copy of a slice from a DataFrame\n",
      "\n",
      "See the caveats in the documentation: https://pandas.pydata.org/pandas-docs/stable/user_guide/indexing.html#returning-a-view-versus-a-copy\n",
      "  df['number of rooms'][(df['number of rooms'] < Q1 - IQR ) | (df['number of rooms'] > Q3 + 2.5*IQR)] = np.nan\n",
      "<ipython-input-23-80699676a023>:57: SettingWithCopyWarning: \n",
      "A value is trying to be set on a copy of a slice from a DataFrame\n",
      "\n",
      "See the caveats in the documentation: https://pandas.pydata.org/pandas-docs/stable/user_guide/indexing.html#returning-a-view-versus-a-copy\n",
      "  df['total price'][(df['total price'] < Q1 - IQR ) | (df['total price'] > Q3 + 2.5*IQR)] = np.nan\n",
      "C:\\Users\\benpe\\Downloads\\pythonG\\lib\\site-packages\\pandas\\core\\series.py:992: SettingWithCopyWarning: \n",
      "A value is trying to be set on a copy of a slice from a DataFrame\n",
      "\n",
      "See the caveats in the documentation: https://pandas.pydata.org/pandas-docs/stable/user_guide/indexing.html#returning-a-view-versus-a-copy\n",
      "  self._where(~key, value, inplace=True)\n"
     ]
    },
    {
     "data": {
      "image/png": "[encoded data removed]",
      "text/plain": [
       "<Figure size 432x288 with 1 Axes>"
      ]
     },
     "metadata": {
      "needs_background": "light"
     },
     "output_type": "display_data"
    }
   ],
   "source": [
    "df_north_star=pd.read_csv(\"df_north_star.csv\")\n",
    "df_north_star[\"adress\"]=4\n",
    "df_north_star=Data_h(df_north_star)\n",
    "df_north_star.to_csv(\"df_north_starEDA.cvs\")"
   ]
  },
  {
   "cell_type": "code",
   "execution_count": 29,
   "id": "5ea0d956",
   "metadata": {},
   "outputs": [
    {
     "name": "stderr",
     "output_type": "stream",
     "text": [
      "<ipython-input-23-80699676a023>:4: FutureWarning: The default value of regex will change from True to False in a future version.\n",
      "  df['floor'] = df['floor'].str.replace(r'\\D', '')\n",
      "<ipython-input-23-80699676a023>:10: FutureWarning: The default value of regex will change from True to False in a future version.\n",
      "  df['price for meter'] = df['price for meter'].str.replace(r'\\D', '')\n",
      "<ipython-input-23-80699676a023>:14: FutureWarning: The default value of regex will change from True to False in a future version.\n",
      "  df['square'] = df['square'].str.replace(r'\\D', '')\n",
      "<ipython-input-23-80699676a023>:45: SettingWithCopyWarning: \n",
      "A value is trying to be set on a copy of a slice from a DataFrame\n",
      "\n",
      "See the caveats in the documentation: https://pandas.pydata.org/pandas-docs/stable/user_guide/indexing.html#returning-a-view-versus-a-copy\n",
      "  df['number of rooms'][(df['number of rooms'] < Q1 - IQR ) | (df['number of rooms'] > Q3 + 2.5*IQR)] = np.nan\n",
      "<ipython-input-23-80699676a023>:57: SettingWithCopyWarning: \n",
      "A value is trying to be set on a copy of a slice from a DataFrame\n",
      "\n",
      "See the caveats in the documentation: https://pandas.pydata.org/pandas-docs/stable/user_guide/indexing.html#returning-a-view-versus-a-copy\n",
      "  df['total price'][(df['total price'] < Q1 - IQR ) | (df['total price'] > Q3 + 2.5*IQR)] = np.nan\n",
      "C:\\Users\\benpe\\Downloads\\pythonG\\lib\\site-packages\\pandas\\core\\series.py:992: SettingWithCopyWarning: \n",
      "A value is trying to be set on a copy of a slice from a DataFrame\n",
      "\n",
      "See the caveats in the documentation: https://pandas.pydata.org/pandas-docs/stable/user_guide/indexing.html#returning-a-view-versus-a-copy\n",
      "  self._where(~key, value, inplace=True)\n"
     ]
    },
    {
     "data": {
      "image/png": "[encoded data removed]",
      "text/plain": [
       "<Figure size 432x288 with 1 Axes>"
      ]
     },
     "metadata": {
      "needs_background": "light"
     },
     "output_type": "display_data"
    }
   ],
   "source": [
    "df_kiryat_shalom=pd.read_csv(\"df_shalom.csv\")\n",
    "df_kiryat_shalom[\"adress\"]=5\n",
    "df_kiryat_shalom=Data_h(df_kiryat_shalom)\n",
    "df_kiryat_shalom.to_csv(\"df_kiryat_shalomEDA.cvs\")"
   ]
  },
  {
   "cell_type": "code",
   "execution_count": 30,
   "id": "6f3e8f0c",
   "metadata": {},
   "outputs": [
    {
     "name": "stderr",
     "output_type": "stream",
     "text": [
      "<ipython-input-23-80699676a023>:4: FutureWarning: The default value of regex will change from True to False in a future version.\n",
      "  df['floor'] = df['floor'].str.replace(r'\\D', '')\n",
      "<ipython-input-23-80699676a023>:10: FutureWarning: The default value of regex will change from True to False in a future version.\n",
      "  df['price for meter'] = df['price for meter'].str.replace(r'\\D', '')\n",
      "<ipython-input-23-80699676a023>:14: FutureWarning: The default value of regex will change from True to False in a future version.\n",
      "  df['square'] = df['square'].str.replace(r'\\D', '')\n",
      "<ipython-input-23-80699676a023>:45: SettingWithCopyWarning: \n",
      "A value is trying to be set on a copy of a slice from a DataFrame\n",
      "\n",
      "See the caveats in the documentation: https://pandas.pydata.org/pandas-docs/stable/user_guide/indexing.html#returning-a-view-versus-a-copy\n",
      "  df['number of rooms'][(df['number of rooms'] < Q1 - IQR ) | (df['number of rooms'] > Q3 + 2.5*IQR)] = np.nan\n",
      "<ipython-input-23-80699676a023>:57: SettingWithCopyWarning: \n",
      "A value is trying to be set on a copy of a slice from a DataFrame\n",
      "\n",
      "See the caveats in the documentation: https://pandas.pydata.org/pandas-docs/stable/user_guide/indexing.html#returning-a-view-versus-a-copy\n",
      "  df['total price'][(df['total price'] < Q1 - IQR ) | (df['total price'] > Q3 + 2.5*IQR)] = np.nan\n",
      "C:\\Users\\benpe\\Downloads\\pythonG\\lib\\site-packages\\pandas\\core\\series.py:992: SettingWithCopyWarning: \n",
      "A value is trying to be set on a copy of a slice from a DataFrame\n",
      "\n",
      "See the caveats in the documentation: https://pandas.pydata.org/pandas-docs/stable/user_guide/indexing.html#returning-a-view-versus-a-copy\n",
      "  self._where(~key, value, inplace=True)\n"
     ]
    },
    {
     "data": {
      "image/png": "[encoded data removed]",
      "text/plain": [
       "<Figure size 432x288 with 1 Axes>"
      ]
     },
     "metadata": {
      "needs_background": "light"
     },
     "output_type": "display_data"
    }
   ],
   "source": [
    "df_neve_shaanan=pd.read_csv(\"df_neve_shaanan.csv\")\n",
    "df_neve_shaanan[\"adress\"]=6\n",
    "df_neve_shaanan=Data_h(df_neve_shaanan)\n",
    "df_neve_shaanan.to_csv(\"df_neve_shaananEDA.cvs\")"
   ]
  },
  {
   "cell_type": "code",
   "execution_count": 31,
   "id": "ffeaf3bb",
   "metadata": {},
   "outputs": [],
   "source": [
    "#df_kiryat_sharet_HOLON=pd.read_csv(\"df_holon_sharet.csv\")\n",
    "#df_kiryat_sharet_HOLON[\"adress\"]=7\n",
    "#df_kiryat_sharet_HOLON=Data_h(df_kiryat_sharet_HOLON)\n",
    "#df_kiryat_sharet_HOLON"
   ]
  },
  {
   "cell_type": "code",
   "execution_count": null,
   "id": "8f76e29e",
   "metadata": {},
   "outputs": [],
   "source": [
    "cheke=pd.read_csv(\"df_neve_shaanan.csv\")\n",
    "cheke.info()"
   ]
  },
  {
   "cell_type": "markdown",
   "id": "7b1d2ef6",
   "metadata": {},
   "source": [
    "# combining DF"
   ]
  },
  {
   "cell_type": "code",
   "execution_count": 32,
   "id": "60ab2b7c",
   "metadata": {},
   "outputs": [],
   "source": [
    "df_ALL=pd.concat([df_hagush_hagadol1, df_florentin, df_neve_ofer, df_north_star, df_kiryat_shalom, df_neve_shaanan], axis=0)\n",
    "df_ALL.to_csv(\"df_ALL.csv\")"
   ]
  },
  {
   "cell_type": "markdown",
   "id": "5b4ce8a9",
   "metadata": {},
   "source": [
    "# convert to numeric (neigh info)"
   ]
  },
  {
   "cell_type": "code",
   "execution_count": 5,
   "id": "7fa33fab",
   "metadata": {},
   "outputs": [
    {
     "data": {
      "text/html": [
       "<div>\n",
       "<style scoped>\n",
       "    .dataframe tbody tr th:only-of-type {\n",
       "        vertical-align: middle;\n",
       "    }\n",
       "\n",
       "    .dataframe tbody tr th {\n",
       "        vertical-align: top;\n",
       "    }\n",
       "\n",
       "    .dataframe thead th {\n",
       "        text-align: right;\n",
       "    }\n",
       "</style>\n",
       "<table border=\"1\" class=\"dataframe\">\n",
       "  <thead>\n",
       "    <tr style=\"text-align: right;\">\n",
       "      <th></th>\n",
       "      <th>neighborhood num</th>\n",
       "      <th>Average_rent</th>\n",
       "      <th>School_grade</th>\n",
       "      <th>Socio_economic</th>\n",
       "      <th>Cleanliness_Maintenance</th>\n",
       "      <th>Kindergarten</th>\n",
       "      <th>Parking</th>\n",
       "      <th>Public_Transport</th>\n",
       "      <th>Feeling_confident</th>\n",
       "      <th>Gardens</th>\n",
       "      <th>Recreation_and_leisure</th>\n",
       "      <th>Shopping</th>\n",
       "      <th>Pedestrian_comfort</th>\n",
       "    </tr>\n",
       "  </thead>\n",
       "  <tbody>\n",
       "    <tr>\n",
       "      <th>0</th>\n",
       "      <td>1</td>\n",
       "      <td>10500</td>\n",
       "      <td>4.50</td>\n",
       "      <td>4.5</td>\n",
       "      <td>4.4</td>\n",
       "      <td>4.4</td>\n",
       "      <td>3.7</td>\n",
       "      <td>3.5</td>\n",
       "      <td>4.7</td>\n",
       "      <td>4.2</td>\n",
       "      <td>2.9</td>\n",
       "      <td>3.1</td>\n",
       "      <td>3.7</td>\n",
       "    </tr>\n",
       "    <tr>\n",
       "      <th>1</th>\n",
       "      <td>2</td>\n",
       "      <td>6050</td>\n",
       "      <td>1.75</td>\n",
       "      <td>2.5</td>\n",
       "      <td>2.0</td>\n",
       "      <td>2.3</td>\n",
       "      <td>2.9</td>\n",
       "      <td>4.1</td>\n",
       "      <td>3.5</td>\n",
       "      <td>2.1</td>\n",
       "      <td>4.5</td>\n",
       "      <td>4.2</td>\n",
       "      <td>3.8</td>\n",
       "    </tr>\n",
       "    <tr>\n",
       "      <th>2</th>\n",
       "      <td>3</td>\n",
       "      <td>4450</td>\n",
       "      <td>2.25</td>\n",
       "      <td>1.5</td>\n",
       "      <td>3.9</td>\n",
       "      <td>4.3</td>\n",
       "      <td>4.6</td>\n",
       "      <td>4.5</td>\n",
       "      <td>4.0</td>\n",
       "      <td>4.6</td>\n",
       "      <td>2.2</td>\n",
       "      <td>3.1</td>\n",
       "      <td>4.7</td>\n",
       "    </tr>\n",
       "    <tr>\n",
       "      <th>3</th>\n",
       "      <td>4</td>\n",
       "      <td>10500</td>\n",
       "      <td>5.00</td>\n",
       "      <td>4.5</td>\n",
       "      <td>4.5</td>\n",
       "      <td>4.1</td>\n",
       "      <td>4.5</td>\n",
       "      <td>3.8</td>\n",
       "      <td>4.6</td>\n",
       "      <td>4.5</td>\n",
       "      <td>3.1</td>\n",
       "      <td>3.0</td>\n",
       "      <td>4.3</td>\n",
       "    </tr>\n",
       "    <tr>\n",
       "      <th>4</th>\n",
       "      <td>5</td>\n",
       "      <td>6200</td>\n",
       "      <td>3.85</td>\n",
       "      <td>1.5</td>\n",
       "      <td>4.1</td>\n",
       "      <td>4.2</td>\n",
       "      <td>4.3</td>\n",
       "      <td>4.2</td>\n",
       "      <td>4.7</td>\n",
       "      <td>4.8</td>\n",
       "      <td>2.9</td>\n",
       "      <td>3.3</td>\n",
       "      <td>4.7</td>\n",
       "    </tr>\n",
       "    <tr>\n",
       "      <th>5</th>\n",
       "      <td>6</td>\n",
       "      <td>5000</td>\n",
       "      <td>2.50</td>\n",
       "      <td>2.0</td>\n",
       "      <td>2.6</td>\n",
       "      <td>2.8</td>\n",
       "      <td>3.6</td>\n",
       "      <td>4.6</td>\n",
       "      <td>2.8</td>\n",
       "      <td>2.7</td>\n",
       "      <td>2.7</td>\n",
       "      <td>2.8</td>\n",
       "      <td>4.0</td>\n",
       "    </tr>\n",
       "  </tbody>\n",
       "</table>\n",
       "</div>"
      ],
      "text/plain": [
       "   neighborhood num  Average_rent  School_grade  Socio_economic  \\\n",
       "0                 1         10500          4.50             4.5   \n",
       "1                 2          6050          1.75             2.5   \n",
       "2                 3          4450          2.25             1.5   \n",
       "3                 4         10500          5.00             4.5   \n",
       "4                 5          6200          3.85             1.5   \n",
       "5                 6          5000          2.50             2.0   \n",
       "\n",
       "   Cleanliness_Maintenance  Kindergarten  Parking  Public_Transport  \\\n",
       "0                      4.4           4.4      3.7               3.5   \n",
       "1                      2.0           2.3      2.9               4.1   \n",
       "2                      3.9           4.3      4.6               4.5   \n",
       "3                      4.5           4.1      4.5               3.8   \n",
       "4                      4.1           4.2      4.3               4.2   \n",
       "5                      2.6           2.8      3.6               4.6   \n",
       "\n",
       "   Feeling_confident  Gardens  Recreation_and_leisure  Shopping  \\\n",
       "0                4.7      4.2                     2.9       3.1   \n",
       "1                3.5      2.1                     4.5       4.2   \n",
       "2                4.0      4.6                     2.2       3.1   \n",
       "3                4.6      4.5                     3.1       3.0   \n",
       "4                4.7      4.8                     2.9       3.3   \n",
       "5                2.8      2.7                     2.7       2.8   \n",
       "\n",
       "   Pedestrian_comfort  \n",
       "0                 3.7  \n",
       "1                 3.8  \n",
       "2                 4.7  \n",
       "3                 4.3  \n",
       "4                 4.7  \n",
       "5                 4.0  "
      ]
     },
     "execution_count": 5,
     "metadata": {},
     "output_type": "execute_result"
    }
   ],
   "source": [
    "df_info=pd.read_csv(\"DF_info\")\n",
    "df_info.drop('Unnamed: 0',axis=1,inplace=True)\n",
    "\n",
    "df_info['School_grade'] = df_info['School_grade'].str.split('/',n=0,expand = True)\n",
    "df_info['School_grade'] = pd.to_numeric(df_info['School_grade'])\n",
    "\n",
    "df_info['Socio_economic'] = df_info['Socio_economic'].str.split('/',expand = True)\n",
    "df_info['Socio_economic'] = pd.to_numeric(df_info['Socio_economic'])\n",
    "df_info['Socio_economic'] = df_info['Socio_economic'].astype(float)\n",
    "\n",
    "df_info['School_grade']=df_info['School_grade']/2\n",
    "df_info['Socio_economic']=df_info['Socio_economic']/2\n",
    "\n",
    "\n",
    "\n",
    "df_info.to_csv(\"DF_infoVis.csv\")\n",
    "df_info\n",
    "\n",
    "\n",
    "\n"
   ]
  },
  {
   "cell_type": "code",
   "execution_count": null,
   "id": "6c078f64",
   "metadata": {},
   "outputs": [],
   "source": []
  },
  {
   "cell_type": "code",
   "execution_count": null,
   "id": "4bf16dc3",
   "metadata": {},
   "outputs": [],
   "source": []
  }
 ],
 "metadata": {
  "kernelspec": {
   "display_name": "Python 3",
   "language": "python",
   "name": "python3"
  },
  "language_info": {
   "codemirror_mode": {
    "name": "ipython",
    "version": 3
   },
   "file_extension": ".py",
   "mimetype": "text/x-python",
   "name": "python",
   "nbconvert_exporter": "python",
   "pygments_lexer": "ipython3",
   "version": "3.8.8"
  }
 },
 "nbformat": 4,
 "nbformat_minor": 5
}
